{
  "nbformat": 4,
  "nbformat_minor": 0,
  "metadata": {
    "colab": {
      "provenance": []
    },
    "kernelspec": {
      "name": "python3",
      "display_name": "Python 3"
    },
    "language_info": {
      "name": "python"
    }
  },
  "cells": [
    {
      "cell_type": "markdown",
      "source": [
        "**Gradient Descnet Algorithm Implementation in Python**\n",
        "\n",
        "Gradient Descent Algorithm\n",
        "1. Finds global/local minima of a function.\n",
        "2. It is optimisation function used to minimise the cost function of the model.\n",
        "3. Mathematically is is written as:\n",
        "```\n",
        "θj = θj - α * (1/m) * ∑(hθ(x(i)) - y(i)) * x(i)j\n",
        "```\n",
        "Essentially it describes the direction that cost minimising function takes in order to reach the minima.\n",
        "4. There are three types of Gradient Descent:Batch Gradient Descent, Stochastic Gradient Descent, and Mini-Batch Gradient Descent. \n",
        "5. Batch Gradient Descent updates the parameters using the entire training set at each iteration, while Stochastic Gradient Descent updates the parameters using one example at a time. Mini-Batch Gradient Descent updates the parameters using a small batch of examples at each iteration.\n"
      ],
      "metadata": {
        "id": "rXwrhH9NBNVh"
      }
    },
    {
      "cell_type": "code",
      "execution_count": null,
      "metadata": {
        "id": "3uX8faH4BG7J"
      },
      "outputs": [],
      "source": [
        "import numpy as np"
      ]
    },
    {
      "cell_type": "code",
      "source": [
        "def gradient_descent(X,y,alpha=0.01,num_iters=1000):\n",
        "  m = len(y) #No. of training example\n",
        "  n = X.shape[1] #no. of features\n",
        "\n",
        "  theta = np.zeros((n,1)) #initital parameter are zero\n",
        "  J_iter = np.zeros((num_iters,1)) #Keep track of cost function values\n",
        "\n",
        "  for i in range(num_iters):\n",
        "    #Hypotheses h(x) = X * theta \n",
        "    h = np.dot(X,theta) #[hθ(x) = θ^T * x]\n",
        "\n",
        "    #cost function J(Theta) \n",
        "    J = 1/(2*m) * np.sum((h - y)**2) #[J(θ) = (1/2m) * ∑(hθ(x(i)) - y(i))^2]\n",
        "    J_iter[i] = J\n",
        "\n",
        "    #Gradient\n",
        "    grad = 1/m * np.dot(X.T,h-y) #[θj = θj - α * (1/m) * ∑(hθ(x(i)) - y(i)) * x(i)j]\n",
        "\n",
        "    #update parameters\n",
        "    theta = theta - alpha * grad #[θ = [θ_0, θ_1, θ_2, ..., θ_n]^T]\n",
        "  return theta,J_iter\n",
        "\n",
        "\n"
      ],
      "metadata": {
        "id": "2pwPcZOtHjfh"
      },
      "execution_count": null,
      "outputs": []
    },
    {
      "cell_type": "code",
      "source": [
        "X = np.array([[1, 2], \n",
        "              [1, 3], \n",
        "              [1, 4], \n",
        "              [1, 5]]) # training data (2 features)\n",
        "\n",
        "y = np.array([[3], \n",
        "              [4], \n",
        "              [5], \n",
        "              [6]]) # training labels\n",
        "\n",
        "alpha = 0.01 # learning rate\n",
        "\n",
        "num_iters = 1000 # number of iterations"
      ],
      "metadata": {
        "id": "I1GFZkIbKLm2"
      },
      "execution_count": null,
      "outputs": []
    },
    {
      "cell_type": "code",
      "source": [
        "theta,J_funx = gradient_descent(X,y,alpha,num_iters)"
      ],
      "metadata": {
        "id": "8V7HIpOSKUWd"
      },
      "execution_count": null,
      "outputs": []
    },
    {
      "cell_type": "code",
      "source": [
        "theta"
      ],
      "metadata": {
        "colab": {
          "base_uri": "https://localhost:8080/"
        },
        "id": "DzGG85JLKdYq",
        "outputId": "7ff3ddbf-4556-4def-c4c8-f95362d77930"
      },
      "execution_count": null,
      "outputs": [
        {
          "output_type": "execute_result",
          "data": {
            "text/plain": [
              "array([[0.70941875],\n",
              "       [1.07582298]])"
            ]
          },
          "metadata": {},
          "execution_count": 8
        }
      ]
    },
    {
      "cell_type": "code",
      "source": [
        "J_funx[999]"
      ],
      "metadata": {
        "colab": {
          "base_uri": "https://localhost:8080/"
        },
        "id": "wN3l7C_HKrtI",
        "outputId": "13109942-7bf7-4c0a-adc5-de55177ed1f3"
      },
      "execution_count": null,
      "outputs": [
        {
          "output_type": "execute_result",
          "data": {
            "text/plain": [
              "array([0.00391754])"
            ]
          },
          "metadata": {},
          "execution_count": 12
        }
      ]
    },
    {
      "cell_type": "markdown",
      "source": [
        "Moral of the Story:\n",
        "1. We found the gradient descent for the set of input and output\n",
        "2. We found the value at which the Theta converges.\n",
        "3. We can see the J function at each iteration converge.\n",
        "\n",
        "We used gradient descent to optimize the set of input and output values for a linear regression model, by minimizing the cost function.\n",
        "We found the values of the model parameters θ at which the cost function is minimized, using the gradient descent algorithm.\n",
        "We kept track of the cost function values for each iteration of the gradient descent algorithm, in order to monitor the convergence of the algorithm.\n"
      ],
      "metadata": {
        "id": "epSuxzCTMAgi"
      }
    },
    {
      "cell_type": "markdown",
      "source": [
        "Further We can visualise the convergence of J function."
      ],
      "metadata": {
        "id": "QQhzoZyCMuVC"
      }
    },
    {
      "cell_type": "code",
      "source": [
        "import matplotlib.pyplot as plt\n",
        "\n",
        "# plot the cost function history\n",
        "plt.plot(J_funx)\n",
        "plt.xlabel('Iteration')\n",
        "plt.ylabel('Cost Function')\n",
        "plt.title('Cost Function History')\n",
        "plt.show()\n"
      ],
      "metadata": {
        "colab": {
          "base_uri": "https://localhost:8080/",
          "height": 295
        },
        "id": "BL0iXvXqKuMd",
        "outputId": "00fe0435-b261-44bd-8562-c844cbbc87f4"
      },
      "execution_count": null,
      "outputs": [
        {
          "output_type": "display_data",
          "data": {
            "text/plain": [
              "<Figure size 432x288 with 1 Axes>"
            ],
            "image/png": "[encoded data removed]"
          },
          "metadata": {
            "needs_background": "light"
          }
        }
      ]
    },
    {
      "cell_type": "markdown",
      "source": [
        "Additional things to remember \n",
        "1. J is a type of loss function \n",
        "2. GD is a typpe of loss optimisation function"
      ],
      "metadata": {
        "id": "xVJfj8VrPaup"
      }
    }
  ]
}